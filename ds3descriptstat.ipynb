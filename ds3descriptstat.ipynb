{
 "cells": [
  {
   "cell_type": "code",
   "execution_count": null,
   "id": "30017ef5",
   "metadata": {},
   "outputs": [],
   "source": [
    "# Experiment: Descriptive Statistics - Measures of Central Tendency and Variability\n",
    "\n",
    "import pandas as pd\n",
    "\n",
    "# Load the dataset\n",
    "df = pd.read_csv(\"iris.csv\")\n",
    "\n",
    "# --- Task 1: Summary Statistics Grouped by Species ---\n",
    "\n",
    "# Group by species and calculate summary statistics\n",
    "grouped_stats = df.groupby('species').agg(['mean', 'median', 'min', 'max', 'std'])\n",
    "\n",
    "print(\"Summary Statistics (Grouped by Species):\")\n",
    "print(grouped_stats)\n",
    "\n",
    "# --- Task 2: Statistics for Each Species ---\n",
    "\n",
    "# Create a function to print stats for each species\n",
    "def print_species_stats(species_name):\n",
    "    print(f\"\\n--- Statistics for {species_name} ---\")\n",
    "    species_data = df[df['species'] == species_name]\n",
    "    print(species_data.describe())  # Includes count, mean, std, min, 25%, 50%, 75%, max\n",
    "\n",
    "# Call for each species\n",
    "print_species_stats('Iris-setosa')\n",
    "print_species_stats('Iris-versicolor')\n",
    "print_species_stats('Iris-virginica')\n",
    "\n",
    "# --- Viva Questions and Answers (as comments) ---\n",
    "\n",
    "# Q1: What is the purpose of using groupby in pandas?\n",
    "# A1: It helps to group data based on a category (like species) to compute summary statistics for each group.\n",
    "\n",
    "# Q2: What is the difference between mean and median?\n",
    "# A2: Mean is the average of values; median is the middle value when data is sorted. Median is better when data has outliers.\n",
    "\n",
    "# Q3: What does std() calculate?\n",
    "# A3: Standard deviation — it tells how spread out the data is from the mean.\n",
    "\n",
    "# Q4: Why do we use describe()?\n",
    "# A4: describe() gives basic statistics like count, mean, std, min, and percentiles for quick summary.\n",
    "\n",
    "# Q5: What are percentiles?\n",
    "# A5: Percentiles divide data into 100 equal parts. For example, 25% of values are below the 25th percentile.\n",
    "\n",
    "# Q6: Why group numeric data by categorical columns?\n",
    "# A6: To compare statistics across different categories (e.g., comparing flower species measurements).\n",
    "\n",
    "# Done!\n"
   ]
  }
 ],
 "metadata": {
  "language_info": {
   "name": "python"
  }
 },
 "nbformat": 4,
 "nbformat_minor": 5
}
