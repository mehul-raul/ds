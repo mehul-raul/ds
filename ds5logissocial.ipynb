{
 "cells": [
  {
   "cell_type": "code",
   "execution_count": null,
   "id": "ca14048b",
   "metadata": {},
   "outputs": [],
   "source": [
    "# Experiment 5: Logistic Regression on Social_Network_Ads.csv\n",
    "# Aim: Implement Logistic Regression and compute confusion matrix, TP, FP, TN, FN, accuracy, etc.\n",
    "\n",
    "import pandas as pd\n",
    "import matplotlib.pyplot as plt\n",
    "from sklearn.model_selection import train_test_split\n",
    "from sklearn.linear_model import LogisticRegression\n",
    "from sklearn.metrics import confusion_matrix, classification_report, accuracy_score\n",
    "\n",
    "# Step 1: Load the dataset\n",
    "df = pd.read_csv(\"Social_Network_Ads.csv\")  # Replace with actual path if stored locally\n",
    "print(df.head())\n",
    "\n",
    "# Step 2: Select relevant features and target\n",
    "X = df[['Age', 'EstimatedSalary']]\n",
    "y = df['Purchased']\n",
    "\n",
    "# Step 3: Train-test split\n",
    "X_train, X_test, y_train, y_test = train_test_split(X, y, test_size=0.3, random_state=0)\n",
    "\n",
    "# Step 4: Create logistic regression model and fit it\n",
    "model = LogisticRegression()\n",
    "model.fit(X_train, y_train)\n",
    "\n",
    "# Step 5: Make predictions\n",
    "y_pred = model.predict(X_test)\n",
    "\n",
    "# Step 6: Evaluate performance\n",
    "conf_matrix = confusion_matrix(y_test, y_pred)\n",
    "acc = accuracy_score(y_test, y_pred)\n",
    "\n",
    "print(\"Confusion Matrix:\\n\", conf_matrix)\n",
    "print(\"\\nClassification Report:\\n\", classification_report(y_test, y_pred))\n",
    "print(\"Accuracy:\", acc)\n",
    "\n",
    "# Q: What is Logistic Regression?\n",
    "# A: It’s a classification algorithm used to predict binary outcomes (0 or 1).\n",
    "\n",
    "# Q: What is the difference between Linear and Logistic Regression?\n",
    "# A: Linear is for continuous output, Logistic is for categorical output.\n",
    "\n",
    "# Q: What does the confusion matrix show?\n",
    "# A: TP, FP, TN, FN – helps evaluate classification performance.\n",
    "\n",
    "# Q: Why use train_test_split?\n",
    "# A: To train the model on one set and test on another to evaluate generalization.\n",
    "\n",
    "# Q: What is the output of sigmoid function?\n",
    "# A: A probability between 0 and 1.\n"
   ]
  }
 ],
 "metadata": {
  "language_info": {
   "name": "python"
  }
 },
 "nbformat": 4,
 "nbformat_minor": 5
}
