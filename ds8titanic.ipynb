{
 "cells": [
  {
   "cell_type": "code",
   "execution_count": null,
   "id": "46a93be4",
   "metadata": {},
   "outputs": [],
   "source": [
    "# Import necessary libraries\n",
    "import seaborn as sns\n",
    "import matplotlib.pyplot as plt\n",
    "\n",
    "# Load Titanic dataset from Seaborn\n",
    "data = sns.load_dataset('titanic')\n",
    "\n",
    "# Display the first 5 rows of the dataset for inspection\n",
    "print(data.head())\n",
    "\n",
    "# 1. Histogram of ticket fare (Distribution of numerical data)\n",
    "# histplot shows the distribution of a numerical variable. We are plotting the 'fare' column.\n",
    "sns.histplot(data['fare'], bins=10, kde=False)  # kde=False disables the kernel density estimation line.\n",
    "plt.title(\"Distribution of Ticket Fare\")  # Adding title to the plot\n",
    "plt.xlabel(\"Fare\")  # Label for the x-axis\n",
    "plt.ylabel(\"Frequency\")  # Label for the y-axis\n",
    "plt.show()  # Display the plot\n",
    "\n",
    "# 2. Categorical Plot - Survival Count by Class\n",
    "# This plot will show the count of passengers who survived or didn't survive, categorized by class.\n",
    "sns.countplot(x='class', hue='survived', data=data)\n",
    "plt.title(\"Survival Count by Passenger Class\")  # Title for the plot\n",
    "plt.show()  # Display the plot\n",
    "\n",
    "# ---- Explanation of Viva Questions and Comments ----\n",
    "# Q: What is Seaborn?\n",
    "# A: Seaborn is a data visualization library built on top of matplotlib. It provides a high-level interface for creating attractive and informative statistical graphics.\n",
    "\n",
    "# Q: What does histplot show?\n",
    "# A: histplot shows the distribution of numerical values, in this case, the distribution of the 'fare' column. It can also include a KDE (Kernel Density Estimation) curve, which smooths the histogram.\n",
    "\n",
    "# Q: What is countplot?\n",
    "# A: countplot is a bar plot that shows the count of observations in each category. Here, it shows the number of passengers who survived or did not survive, categorized by class.\n",
    "\n",
    "# Q: What is KDE (Kernel Density Estimation)?\n",
    "# A: KDE is a statistical method used to estimate the probability density function of a continuous random variable. When applied to a histogram, it smooths the bar plot and provides a clearer view of the data distribution.\n"
   ]
  }
 ],
 "metadata": {
  "language_info": {
   "name": "python"
  }
 },
 "nbformat": 4,
 "nbformat_minor": 5
}
