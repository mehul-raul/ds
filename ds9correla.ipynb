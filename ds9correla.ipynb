{
 "cells": [
  {
   "cell_type": "code",
   "execution_count": null,
   "id": "6b0027fe",
   "metadata": {},
   "outputs": [],
   "source": [
    "# Import necessary libraries\n",
    "import seaborn as sns\n",
    "import matplotlib.pyplot as plt\n",
    "\n",
    "# Load Titanic dataset from Seaborn\n",
    "data = sns.load_dataset(\"titanic\")\n",
    "\n",
    "# Compute the correlation matrix for numerical features in the dataset\n",
    "corr = data.corr(numeric_only=True)  # This only includes numerical columns (e.g., age, fare, etc.)\n",
    "print(corr)  # Print the correlation matrix for inspection\n",
    "\n",
    "# 1. Heatmap of correlation matrix\n",
    "# A heatmap visually represents the correlation matrix, where each cell shows the correlation between two features.\n",
    "sns.heatmap(corr, annot=True, cmap='coolwarm')  # annot=True displays the correlation values inside the cells.\n",
    "plt.title(\"Correlation Matrix Heatmap\")  # Title for the heatmap\n",
    "plt.show()  # Display the heatmap\n",
    "\n",
    "# ---- Explanation of Viva Questions and Comments ----\n",
    "# Q: What is correlation?\n",
    "# A: Correlation measures the relationship between two variables. It indicates how strongly one variable changes when the other changes. It ranges from -1 (perfect negative correlation) to +1 (perfect positive correlation), with 0 indicating no relationship.\n",
    "\n",
    "# Q: What does heatmap do?\n",
    "# A: A heatmap is a data visualization technique that shows the magnitude of values in a matrix, using colors. In this case, it shows how strongly different features (e.g., age, fare, class) are correlated with each other.\n",
    "\n",
    "# Q: What is cmap?\n",
    "# A: 'cmap' refers to the color map used to color the cells of the heatmap. The 'coolwarm' color map uses colors that range from cool (blue) to warm (red), where blue represents negative correlations and red represents positive correlations.\n",
    "\n",
    "# Q: What does annot=True mean?\n",
    "# A: annot=True means that the actual numerical correlation values will be displayed inside each cell of the heatmap, making it easier to understand the strength of the correlation.\n"
   ]
  }
 ],
 "metadata": {
  "language_info": {
   "name": "python"
  }
 },
 "nbformat": 4,
 "nbformat_minor": 5
}
